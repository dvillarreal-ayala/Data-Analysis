{
 "cells": [
  {
   "cell_type": "markdown",
   "metadata": {},
   "source": [
    "## 1. Import Libraries\n"
   ]
  },
  {
   "cell_type": "code",
   "execution_count": 1,
   "metadata": {},
   "outputs": [],
   "source": [
    "import pandas as pd\n",
    "import matplotlib.pyplot as plt\n",
    "import seaborn as sns\n",
    "\n",
    "pd.set_option(\"display.max_columns\", 200)"
   ]
  },
  {
   "cell_type": "markdown",
   "metadata": {},
   "source": [
    "## 2. Load the Dataset"
   ]
  },
  {
   "cell_type": "code",
   "execution_count": 2,
   "metadata": {},
   "outputs": [],
   "source": [
    "df = pd.read_csv(\"data/approval_poll.csv\")"
   ]
  },
  {
   "cell_type": "markdown",
   "metadata": {},
   "source": [
    "# Before you can be ready to perform any meaningful statistical analysis on a dataset, you have to get a general understanding of what you have. Here are some steps to help you get started with this:\n",
    "## - Load and read the dataset\n",
    "## - Better understand the columns (features) of your data\n",
    "## - Notice data types, unique values, null values, duplicates, etc.\n",
    "## - Determine if the dataset is worth exploring further or return to Selecting a Dataset"
   ]
  },
  {
   "cell_type": "code",
   "execution_count": 3,
   "metadata": {},
   "outputs": [
    {
     "data": {
      "text/plain": [
       "Index(['president', 'subgroup', 'modeldate', 'startdate', 'enddate',\n",
       "       'pollster', 'grade', 'samplesize', 'population', 'weight', 'influence',\n",
       "       'approve', 'disapprove', 'adjusted_approve', 'adjusted_disapprove',\n",
       "       'multiversions', 'tracking', 'url', 'poll_id', 'question_id',\n",
       "       'createddate', 'timestamp'],\n",
       "      dtype='object')"
      ]
     },
     "execution_count": 3,
     "metadata": {},
     "output_type": "execute_result"
    }
   ],
   "source": [
    "# Find # of columns and rows.\n",
    "df.shape\n",
    "\n",
    "# Check column names to see if there are any we can remove\n",
    "#df.head()\n",
    "\n",
    "#df.info()\n",
    "\n",
    "df.columns"
   ]
  },
  {
   "cell_type": "code",
   "execution_count": 5,
   "metadata": {},
   "outputs": [
    {
     "data": {
      "text/html": [
       "<div>\n",
       "<style scoped>\n",
       "    .dataframe tbody tr th:only-of-type {\n",
       "        vertical-align: middle;\n",
       "    }\n",
       "\n",
       "    .dataframe tbody tr th {\n",
       "        vertical-align: top;\n",
       "    }\n",
       "\n",
       "    .dataframe thead th {\n",
       "        text-align: right;\n",
       "    }\n",
       "</style>\n",
       "<table border=\"1\" class=\"dataframe\">\n",
       "  <thead>\n",
       "    <tr style=\"text-align: right;\">\n",
       "      <th></th>\n",
       "      <th>president</th>\n",
       "      <th>samplesize</th>\n",
       "      <th>approve</th>\n",
       "      <th>disapprove</th>\n",
       "      <th>startdate</th>\n",
       "      <th>enddate</th>\n",
       "    </tr>\n",
       "  </thead>\n",
       "  <tbody>\n",
       "    <tr>\n",
       "      <th>0</th>\n",
       "      <td>Donald Trump</td>\n",
       "      <td>1992.0</td>\n",
       "      <td>46.0</td>\n",
       "      <td>37.0</td>\n",
       "      <td>1/20/2017</td>\n",
       "      <td>1/22/2017</td>\n",
       "    </tr>\n",
       "    <tr>\n",
       "      <th>1</th>\n",
       "      <td>Donald Trump</td>\n",
       "      <td>1500.0</td>\n",
       "      <td>45.0</td>\n",
       "      <td>45.0</td>\n",
       "      <td>1/20/2017</td>\n",
       "      <td>1/22/2017</td>\n",
       "    </tr>\n",
       "    <tr>\n",
       "      <th>2</th>\n",
       "      <td>Donald Trump</td>\n",
       "      <td>1632.0</td>\n",
       "      <td>42.1</td>\n",
       "      <td>45.2</td>\n",
       "      <td>1/20/2017</td>\n",
       "      <td>1/24/2017</td>\n",
       "    </tr>\n",
       "    <tr>\n",
       "      <th>3</th>\n",
       "      <td>Donald Trump</td>\n",
       "      <td>1500.0</td>\n",
       "      <td>45.0</td>\n",
       "      <td>46.0</td>\n",
       "      <td>1/21/2017</td>\n",
       "      <td>1/23/2017</td>\n",
       "    </tr>\n",
       "    <tr>\n",
       "      <th>4</th>\n",
       "      <td>Donald Trump</td>\n",
       "      <td>1500.0</td>\n",
       "      <td>46.0</td>\n",
       "      <td>45.0</td>\n",
       "      <td>1/22/2017</td>\n",
       "      <td>1/24/2017</td>\n",
       "    </tr>\n",
       "  </tbody>\n",
       "</table>\n",
       "</div>"
      ],
      "text/plain": [
       "      president  samplesize  approve  disapprove  startdate    enddate\n",
       "0  Donald Trump      1992.0     46.0        37.0  1/20/2017  1/22/2017\n",
       "1  Donald Trump      1500.0     45.0        45.0  1/20/2017  1/22/2017\n",
       "2  Donald Trump      1632.0     42.1        45.2  1/20/2017  1/24/2017\n",
       "3  Donald Trump      1500.0     45.0        46.0  1/21/2017  1/23/2017\n",
       "4  Donald Trump      1500.0     46.0        45.0  1/22/2017  1/24/2017"
      ]
     },
     "execution_count": 5,
     "metadata": {},
     "output_type": "execute_result"
    }
   ],
   "source": [
    "# Remove unneccesary data\n",
    "\n",
    "df = df[['president', 'samplesize', 'approve', 'disapprove', 'startdate', 'enddate']]\n",
    "\n",
    "df.shape\n",
    "\n",
    "df.head()"
   ]
  }
 ],
 "metadata": {
  "kernelspec": {
   "display_name": ".venv",
   "language": "python",
   "name": "python3"
  },
  "language_info": {
   "codemirror_mode": {
    "name": "ipython",
    "version": 3
   },
   "file_extension": ".py",
   "mimetype": "text/x-python",
   "name": "python",
   "nbconvert_exporter": "python",
   "pygments_lexer": "ipython3",
   "version": "3.8.2"
  },
  "orig_nbformat": 4
 },
 "nbformat": 4,
 "nbformat_minor": 2
}
