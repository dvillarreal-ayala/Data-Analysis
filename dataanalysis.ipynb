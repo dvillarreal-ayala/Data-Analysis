{
 "cells": [
  {
   "cell_type": "markdown",
   "metadata": {},
   "source": [
    "## 1. Import Libraries\n"
   ]
  },
  {
   "cell_type": "code",
   "execution_count": 17,
   "metadata": {},
   "outputs": [],
   "source": [
    "import pandas as pd\n",
    "import matplotlib.pyplot as plt\n",
    "import seaborn as sns\n",
    "\n",
    "pd.set_option(\"display.max_columns\", 200)"
   ]
  },
  {
   "cell_type": "markdown",
   "metadata": {},
   "source": [
    "## 2. Load the Dataset"
   ]
  },
  {
   "cell_type": "code",
   "execution_count": 18,
   "metadata": {},
   "outputs": [],
   "source": [
    "df = pd.read_csv(\"data/approval_poll.csv\")"
   ]
  },
  {
   "cell_type": "markdown",
   "metadata": {},
   "source": [
    "# Before you can be ready to perform any meaningful statistical analysis on a dataset, you have to get a general understanding of what you have. Here are some steps to help you get started with this:\n",
    "## - Load and read the dataset\n",
    "## - Better understand the columns (features) of your data\n",
    "## - Notice data types, unique values, null values, duplicates, etc.\n",
    "## - Determine if the dataset is worth exploring further or return to Selecting a Dataset"
   ]
  },
  {
   "cell_type": "code",
   "execution_count": 22,
   "metadata": {},
   "outputs": [
    {
     "data": {
      "text/plain": [
       "Index(['president', 'subgroup', 'modeldate', 'startdate', 'enddate',\n",
       "       'pollster', 'grade', 'samplesize', 'population', 'weight', 'influence',\n",
       "       'approve', 'disapprove', 'adjusted_approve', 'adjusted_disapprove',\n",
       "       'multiversions', 'tracking', 'url', 'poll_id', 'question_id',\n",
       "       'createddate', 'timestamp'],\n",
       "      dtype='object')"
      ]
     },
     "execution_count": 22,
     "metadata": {},
     "output_type": "execute_result"
    }
   ],
   "source": [
    "# Find # of columns and rows.\n",
    "df.shape\n",
    "\n",
    "# Check column names to see if there are any we can remove\n",
    "#df.head()\n",
    "\n",
    "#df.info()\n",
    "\n",
    "df.columns"
   ]
  },
  {
   "cell_type": "code",
   "execution_count": 27,
   "metadata": {},
   "outputs": [
    {
     "data": {
      "text/plain": [
       "(16500, 4)"
      ]
     },
     "execution_count": 27,
     "metadata": {},
     "output_type": "execute_result"
    }
   ],
   "source": [
    "# Remove unneccesary data\n",
    "\n",
    "df = df[['president', 'samplesize', 'approve', 'disapprove']]\n",
    "\n",
    "df.shape"
   ]
  }
 ],
 "metadata": {
  "kernelspec": {
   "display_name": ".venv",
   "language": "python",
   "name": "python3"
  },
  "language_info": {
   "codemirror_mode": {
    "name": "ipython",
    "version": 3
   },
   "file_extension": ".py",
   "mimetype": "text/x-python",
   "name": "python",
   "nbconvert_exporter": "python",
   "pygments_lexer": "ipython3",
   "version": "3.8.2"
  },
  "orig_nbformat": 4
 },
 "nbformat": 4,
 "nbformat_minor": 2
}
